{
  "nbformat": 4,
  "nbformat_minor": 0,
  "metadata": {
    "colab": {
      "provenance": []
    },
    "kernelspec": {
      "name": "python3",
      "display_name": "Python 3"
    },
    "language_info": {
      "name": "python"
    }
  },
  "cells": [
    {
      "cell_type": "code",
      "execution_count": 3,
      "metadata": {
        "colab": {
          "base_uri": "https://localhost:8080/"
        },
        "id": "oRtZ8YSXq2ek",
        "outputId": "79b3b3e1-8d4f-4b9b-f7fa-c55759bb6259"
      },
      "outputs": [
        {
          "output_type": "stream",
          "name": "stdout",
          "text": [
            "Enter secret message:1234\n",
            "Enter a passcode:456\n",
            "Enter passcode for Decryption456\n",
            "Decryption message: 1234\n"
          ]
        }
      ],
      "source": [
        "import cv2\n",
        "import os\n",
        "import string\n",
        "\n",
        "img = cv2.imread(\"/content/mypic.jpg\") # Replace with the correct image path#image\n",
        "\n",
        "msg = input(\"Enter secret message:\")\n",
        "password = input(\"Enter a passcode:\")\n",
        "\n",
        "d = {}\n",
        "c = {}\n",
        "\n",
        "for i in range(255):\n",
        "    d[chr(i)] = i\n",
        "    c[i] = chr(i)\n",
        "\n",
        "m = 0\n",
        "n = 0\n",
        "z = 0\n",
        "\n",
        "for i in range(len(msg)):\n",
        "    img[n, m, z] = d[msg[i]]\n",
        "    n = n + 1\n",
        "    m = m + 1\n",
        "    z = (z + 1) % 3\n",
        "\n",
        "cv2.imwrite(\"encryptedImage.jpg\", img)\n",
        "os.system(\"start encryptedImage.jpg\")  # Use 'start' to open the image on Windows\n",
        "\n",
        "message = \"\"\n",
        "n = 0\n",
        "m = 0\n",
        "z = 0\n",
        "\n",
        "pas = input(\"Enter passcode for Decryption\")\n",
        "if password == pas:\n",
        "    for i in range(len(msg)):\n",
        "        message = message + c[img[n, m, z]]\n",
        "        n = n + 1\n",
        "        m = m + 1\n",
        "        z = (z + 1) % 3\n",
        "    print(\"Decryption message:\", message)\n",
        "else:\n",
        "    print(\"YOU ARE NOT auth\")"
      ]
    },
    {
      "cell_type": "code",
      "source": [
        "!pip install pycrypto\n",
        "!pip install pycryptodome"
      ],
      "metadata": {
        "colab": {
          "base_uri": "https://localhost:8080/",
          "height": 263
        },
        "id": "aMxZvf1QtdKc",
        "outputId": "6cfd8633-ae58-44e6-8dae-d7abd65516b3"
      },
      "execution_count": 6,
      "outputs": [
        {
          "output_type": "stream",
          "name": "stdout",
          "text": [
            "Requirement already satisfied: pycrypto in /usr/local/lib/python3.11/dist-packages (2.6.1)\n",
            "Collecting pycryptodome\n",
            "  Downloading pycryptodome-3.21.0-cp36-abi3-manylinux_2_17_x86_64.manylinux2014_x86_64.whl.metadata (3.4 kB)\n",
            "Downloading pycryptodome-3.21.0-cp36-abi3-manylinux_2_17_x86_64.manylinux2014_x86_64.whl (2.3 MB)\n",
            "\u001b[2K   \u001b[90m━━━━━━━━━━━━━━━━━━━━━━━━━━━━━━━━━━━━━━━━\u001b[0m \u001b[32m2.3/2.3 MB\u001b[0m \u001b[31m23.5 MB/s\u001b[0m eta \u001b[36m0:00:00\u001b[0m\n",
            "\u001b[?25hInstalling collected packages: pycryptodome\n",
            "Successfully installed pycryptodome-3.21.0\n"
          ]
        },
        {
          "output_type": "display_data",
          "data": {
            "application/vnd.colab-display-data+json": {
              "pip_warning": {
                "packages": [
                  "Crypto"
                ]
              },
              "id": "c5adcc628d36487faa822212b074b60f"
            }
          },
          "metadata": {}
        }
      ]
    },
    {
      "cell_type": "code",
      "source": [
        "from Crypto.Cipher import AES\n",
        "from Crypto.Util.Padding import pad, unpad\n",
        "import cv2\n",
        "import os\n",
        "import base64\n",
        "import hashlib\n",
        "import numpy as np\n",
        "\n",
        "# Function to encrypt message\n",
        "def encrypt_message(message, key):\n",
        "    key = hashlib.sha256(key.encode()).digest()  # Hash the key to ensure 256-bit length\n",
        "    cipher = AES.new(key, AES.MODE_CBC)\n",
        "    encrypted_bytes = cipher.encrypt(pad(message.encode(), AES.block_size))\n",
        "    return base64.b64encode(cipher.iv + encrypted_bytes).decode()\n",
        "\n",
        "# Function to decrypt message\n",
        "def decrypt_message(encrypted_message, key):\n",
        "    key = hashlib.sha256(key.encode()).digest()\n",
        "    encrypted_bytes = base64.b64decode(encrypted_message)\n",
        "    iv = encrypted_bytes[:16]\n",
        "    cipher = AES.new(key, AES.MODE_CBC, iv)\n",
        "    return unpad(cipher.decrypt(encrypted_bytes[16:]), AES.block_size).decode()\n",
        "\n",
        "# Hash password for storage\n",
        "def hash_password(password):\n",
        "    return hashlib.sha256(password.encode()).hexdigest()\n",
        "\n",
        "# Function to embed data using LSB\n",
        "def embed_data(img, data):\n",
        "    data += \"END\"  # Adding an end marker to detect message end\n",
        "    binary_data = ''.join(format(ord(c), '08b') for c in data)\n",
        "    data_index = 0\n",
        "\n",
        "    for row in img:\n",
        "        for pixel in row:\n",
        "            for i in range(3):  # Modify LSB of each color channel\n",
        "                if data_index < len(binary_data):\n",
        "                    pixel[i] = (pixel[i] & ~1) | int(binary_data[data_index])\n",
        "                    data_index += 1\n",
        "                else:\n",
        "                    return img\n",
        "    return img\n",
        "\n",
        "# Function to extract data from LSB\n",
        "def extract_data(img):\n",
        "    binary_data = \"\"\n",
        "    for row in img:\n",
        "        for pixel in row:\n",
        "            for i in range(3):\n",
        "                binary_data += str(pixel[i] & 1)\n",
        "\n",
        "    message = \"\"\n",
        "    for i in range(0, len(binary_data), 8):\n",
        "        char = chr(int(binary_data[i:i+8], 2))\n",
        "        if message[-3:] == \"END\":\n",
        "            return message[:-3]\n",
        "        message += char\n",
        "    return message\n",
        "\n",
        "# Load image\n",
        "img = cv2.imread(\"mypic.png\")  # Replace with actual image path\n",
        "\n",
        "msg = input(\"Enter secret message: \")\n",
        "password = input(\"Enter a passcode: \")\n",
        "hashed_password = hash_password(password)\n",
        "\n",
        "# Encrypt the message\n",
        "encrypted_msg = encrypt_message(msg, password)\n",
        "\n",
        "# Encode encrypted message into the image using LSB\n",
        "img = embed_data(img, encrypted_msg)\n",
        "cv2.imwrite(\"encryptedImage.png\", img)\n",
        "os.system(\"start encryptedImage.png\")\n",
        "\n",
        "# Decryption phase\n",
        "pas = input(\"Enter passcode for decryption: \")\n",
        "if hash_password(pas) == hashed_password:\n",
        "    extracted_data = extract_data(img)\n",
        "    try:\n",
        "        original_message = decrypt_message(extracted_data, pas)\n",
        "        print(\"Decryption successful: \", original_message)\n",
        "    except:\n",
        "        print(\"Error: Incorrect password or corrupted data.\")\n",
        "else:\n",
        "    print(\"YOU ARE NOT AUTHORIZED\")\n"
      ],
      "metadata": {
        "colab": {
          "base_uri": "https://localhost:8080/"
        },
        "id": "QxHsAe_htbKS",
        "outputId": "17357b8c-9b41-4656-a1c0-39fc3ac53061"
      },
      "execution_count": 19,
      "outputs": [
        {
          "output_type": "stream",
          "name": "stdout",
          "text": [
            "Enter secret message: hello how are you\n",
            "Enter a passcode: 33344\n",
            "Enter passcode for decryption: 33344\n",
            "Decryption successful:  hello how are you\n"
          ]
        }
      ]
    }
  ]
}